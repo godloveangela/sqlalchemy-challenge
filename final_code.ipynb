{
 "cells": [
  {
   "cell_type": "code",
   "execution_count": 1,
   "metadata": {
    "pycharm": {
     "name": "#%%\n"
    }
   },
   "outputs": [],
   "source": [
    "%matplotlib inline\n",
    "from matplotlib import style\n",
    "style.use('fivethirtyeight')\n",
    "import matplotlib.pyplot as plt"
   ]
  },
  {
   "cell_type": "code",
   "execution_count": 2,
   "metadata": {
    "pycharm": {
     "name": "#%%\n"
    }
   },
   "outputs": [],
   "source": [
    "import numpy as np\n",
    "import pandas as pd"
   ]
  },
  {
   "cell_type": "code",
   "execution_count": 3,
   "metadata": {
    "pycharm": {
     "name": "#%%\n"
    }
   },
   "outputs": [],
   "source": [
    "import datetime as dt"
   ]
  },
  {
   "cell_type": "markdown",
   "metadata": {
    "pycharm": {
     "name": "#%% md\n"
    }
   },
   "source": [
    "# Reflect Tables into SQLAlchemy ORM"
   ]
  },
  {
   "cell_type": "code",
   "execution_count": 4,
   "metadata": {
    "pycharm": {
     "name": "#%%\n"
    }
   },
   "outputs": [],
   "source": [
    "# Python SQL toolkit and Object Relational Mapper\n",
    "import sqlalchemy\n",
    "from sqlalchemy.ext.automap import automap_base\n",
    "from sqlalchemy.orm import Session\n",
    "from sqlalchemy import create_engine, func"
   ]
  },
  {
   "cell_type": "code",
   "execution_count": 5,
   "metadata": {
    "pycharm": {
     "name": "#%%\n"
    }
   },
   "outputs": [],
   "source": [
    "engine = create_engine(\"sqlite:///Resources/hawaii.sqlite\")"
   ]
  },
  {
   "cell_type": "code",
   "execution_count": 6,
   "metadata": {
    "pycharm": {
     "name": "#%%\n"
    }
   },
   "outputs": [],
   "source": [
    "# reflect an existing database into a new model\n",
    "Base = automap_base()\n",
    "# reflect the tables\n",
    "Base.prepare(autoload_with=engine)"
   ]
  },
  {
   "cell_type": "code",
   "execution_count": 7,
   "metadata": {
    "pycharm": {
     "name": "#%%\n"
    }
   },
   "outputs": [
    {
     "data": {
      "text/plain": [
       "['measurement', 'station']"
      ]
     },
     "execution_count": 7,
     "metadata": {},
     "output_type": "execute_result"
    }
   ],
   "source": [
    "# We can view all of the classes that automap found\n",
    "Base.classes.keys()"
   ]
  },
  {
   "cell_type": "code",
   "execution_count": 8,
   "metadata": {
    "pycharm": {
     "name": "#%%\n"
    }
   },
   "outputs": [],
   "source": [
    "# Save references to each table\n",
    "station = Base.classes.station\n",
    "measurement = Base.classes.measurement"
   ]
  },
  {
   "cell_type": "code",
   "execution_count": 9,
   "metadata": {
    "pycharm": {
     "name": "#%%\n"
    }
   },
   "outputs": [],
   "source": [
    "# Create our session (link) from Python to the DB\n",
    "session = Session(engine)"
   ]
  },
  {
   "cell_type": "markdown",
   "metadata": {
    "pycharm": {
     "name": "#%% md\n"
    }
   },
   "source": [
    "# Exploratory Climate Analysis"
   ]
  },
  {
   "cell_type": "code",
   "execution_count": 57,
   "metadata": {
    "pycharm": {
     "name": "#%%\n"
    }
   },
   "outputs": [
    {
     "name": "stdout",
     "output_type": "stream",
     "text": [
      "('2017-08-23',)\n"
     ]
    },
    {
     "data": {
      "image/png": "[encoded data removed]",
      "text/plain": [
       "<Figure size 432x288 with 1 Axes>"
      ]
     },
     "metadata": {},
     "output_type": "display_data"
    }
   ],
   "source": [
    "# Design a query to retrieve the last 12 months of precipitation data and plot the results\n",
    "\n",
    "# Calculate the date 1 year ago from the last data point in the database\n",
    "latest_date = session.query(measurement.date).order_by(measurement.date.desc()).first()\n",
    "print(latest_date)\n",
    "last_12_month = dt.date(2017, 8, 23) - dt.timedelta(days=365)\n",
    "# Perform a query to retrieve the data and precipitation scores\n",
    "query_resutl = session.query(measurement.date, measurement.prcp).filter(measurement.date >= last_12_month).all()\n",
    "# Save the query results as a Pandas DataFrame and set the index to the date column\n",
    "pdframe = pd.DataFrame(query_resutl, columns=['date', 'precipitation'])\n",
    "set_index = pdframe.set_index('date')\n",
    "# Sort the dataframe by date\n",
    "sort_df = set_index.sort_values('date')\n",
    "# Use Pandas Plotting with Matplotlib to plot the data\n",
    "sort_df.plot(rot=90)\n",
    "plt.show()"
   ]
  },
  {
   "cell_type": "code",
   "execution_count": 12,
   "metadata": {
    "pycharm": {
     "name": "#%%\n"
    }
   },
   "outputs": [
    {
     "data": {
      "text/html": [
       "<div>\n",
       "<style scoped>\n",
       "    .dataframe tbody tr th:only-of-type {\n",
       "        vertical-align: middle;\n",
       "    }\n",
       "\n",
       "    .dataframe tbody tr th {\n",
       "        vertical-align: top;\n",
       "    }\n",
       "\n",
       "    .dataframe thead th {\n",
       "        text-align: right;\n",
       "    }\n",
       "</style>\n",
       "<table border=\"1\" class=\"dataframe\">\n",
       "  <thead>\n",
       "    <tr style=\"text-align: right;\">\n",
       "      <th></th>\n",
       "      <th>precipitation</th>\n",
       "    </tr>\n",
       "  </thead>\n",
       "  <tbody>\n",
       "    <tr>\n",
       "      <th>count</th>\n",
       "      <td>2021.000000</td>\n",
       "    </tr>\n",
       "    <tr>\n",
       "      <th>mean</th>\n",
       "      <td>0.177279</td>\n",
       "    </tr>\n",
       "    <tr>\n",
       "      <th>std</th>\n",
       "      <td>0.461190</td>\n",
       "    </tr>\n",
       "    <tr>\n",
       "      <th>min</th>\n",
       "      <td>0.000000</td>\n",
       "    </tr>\n",
       "    <tr>\n",
       "      <th>25%</th>\n",
       "      <td>0.000000</td>\n",
       "    </tr>\n",
       "    <tr>\n",
       "      <th>50%</th>\n",
       "      <td>0.020000</td>\n",
       "    </tr>\n",
       "    <tr>\n",
       "      <th>75%</th>\n",
       "      <td>0.130000</td>\n",
       "    </tr>\n",
       "    <tr>\n",
       "      <th>max</th>\n",
       "      <td>6.700000</td>\n",
       "    </tr>\n",
       "  </tbody>\n",
       "</table>\n",
       "</div>"
      ],
      "text/plain": [
       "       precipitation\n",
       "count    2021.000000\n",
       "mean        0.177279\n",
       "std         0.461190\n",
       "min         0.000000\n",
       "25%         0.000000\n",
       "50%         0.020000\n",
       "75%         0.130000\n",
       "max         6.700000"
      ]
     },
     "execution_count": 12,
     "metadata": {},
     "output_type": "execute_result"
    }
   ],
   "source": [
    "# Use Pandas to calcualte the summary statistics for the precipitation data\n",
    "sort_df.describe()"
   ]
  },
  {
   "cell_type": "code",
   "execution_count": 13,
   "metadata": {
    "collapsed": false,
    "pycharm": {
     "name": "#%%\n"
    }
   },
   "outputs": [
    {
     "data": {
      "text/plain": [
       "[(9,)]"
      ]
     },
     "execution_count": 13,
     "metadata": {},
     "output_type": "execute_result"
    }
   ],
   "source": [
    "# Design a query to show how many stations are available in this dataset?\n",
    "session.query(func.count(station.station)).all()"
   ]
  },
  {
   "cell_type": "code",
   "execution_count": 39,
   "metadata": {
    "collapsed": false,
    "pycharm": {
     "name": "#%%\n"
    }
   },
   "outputs": [
    {
     "name": "stdout",
     "output_type": "stream",
     "text": [
      "19550\n"
     ]
    }
   ],
   "source": [
    "# number of rows\n",
    "row_count = session.query(measurement).count()\n",
    "print(row_count)"
   ]
  },
  {
   "cell_type": "code",
   "execution_count": 42,
   "metadata": {
    "collapsed": false,
    "pycharm": {
     "name": "#%%\n"
    }
   },
   "outputs": [
    {
     "data": {
      "text/plain": [
       "[('USC00519281', 2772),\n",
       " ('USC00519397', 2724),\n",
       " ('USC00513117', 2709),\n",
       " ('USC00519523', 2669),\n",
       " ('USC00516128', 2612),\n",
       " ('USC00514830', 2202),\n",
       " ('USC00511918', 1979),\n",
       " ('USC00517948', 1372),\n",
       " ('USC00518838', 511)]"
      ]
     },
     "execution_count": 42,
     "metadata": {},
     "output_type": "execute_result"
    }
   ],
   "source": [
    "# What are the most active stations? (i.e. what stations have the most rows)?\n",
    "# List the stations and the counts in descending order.\n",
    "most_activate_row = session.query(measurement.station, func.count(measurement.station)).group_by(measurement.station).order_by(func.count(measurement.station).desc()).all()\n",
    "most_activate_row"
   ]
  },
  {
   "cell_type": "code",
   "execution_count": 47,
   "metadata": {
    "collapsed": false,
    "pycharm": {
     "name": "#%%\n"
    }
   },
   "outputs": [
    {
     "name": "stdout",
     "output_type": "stream",
     "text": [
      "[(54.0,)]\n",
      "[(85.0,)]\n",
      "[(71.66378066378067,)]\n"
     ]
    }
   ],
   "source": [
    "# Using the station id from the previous query, calculate the lowest temperature recorded, \n",
    "# highest temperature recorded, and average temperature of the most active station?\n",
    "session_id = session.query(measurement.station, func.count(measurement.station)).group_by(measurement.station).order_by(func.count(measurement.station).desc()).first()[0]\n",
    "\n",
    "lowest_temp = session.query(func.min(measurement.tobs)).filter(measurement.station == session_id).all()\n",
    "highst_temp = session.query(func.max(measurement.tobs)).filter(measurement.station == session_id).all()\n",
    "avg_temp = session.query(func.avg(measurement.tobs)).filter(measurement.station == session_id).all()\n",
    "print(lowest_temp)\n",
    "print(highst_temp)\n",
    "print(avg_temp)"
   ]
  },
  {
   "cell_type": "code",
   "execution_count": 54,
   "metadata": {
    "collapsed": false,
    "pycharm": {
     "name": "#%%\n"
    }
   },
   "outputs": [
    {
     "name": "stdout",
     "output_type": "stream",
     "text": [
      "[datetime.date(2011, 1, 1), datetime.date(2011, 1, 2), datetime.date(2011, 1, 3), datetime.date(2011, 1, 4), datetime.date(2011, 1, 5), datetime.date(2011, 1, 6), datetime.date(2011, 1, 7), datetime.date(2011, 1, 8), datetime.date(2011, 1, 9), datetime.date(2011, 1, 10), datetime.date(2011, 1, 11), datetime.date(2011, 1, 12), datetime.date(2011, 1, 13), datetime.date(2011, 1, 14), datetime.date(2011, 1, 15), datetime.date(2011, 1, 16), datetime.date(2011, 1, 17), datetime.date(2011, 1, 18), datetime.date(2011, 1, 19), datetime.date(2011, 1, 20), datetime.date(2011, 1, 21), datetime.date(2011, 1, 22), datetime.date(2011, 1, 23), datetime.date(2011, 1, 24), datetime.date(2011, 1, 25), datetime.date(2011, 1, 26), datetime.date(2011, 1, 27), datetime.date(2011, 1, 28), datetime.date(2011, 1, 29), datetime.date(2011, 1, 30), datetime.date(2011, 1, 31), datetime.date(2011, 2, 1), datetime.date(2011, 2, 2), datetime.date(2011, 2, 3), datetime.date(2011, 2, 4), datetime.date(2011, 2, 5), datetime.date(2011, 2, 6), datetime.date(2011, 2, 7), datetime.date(2011, 2, 8), datetime.date(2011, 2, 9), datetime.date(2011, 2, 10), datetime.date(2011, 2, 11), datetime.date(2011, 2, 12), datetime.date(2011, 2, 13), datetime.date(2011, 2, 14), datetime.date(2011, 2, 15), datetime.date(2011, 2, 16), datetime.date(2011, 2, 17), datetime.date(2011, 2, 18), datetime.date(2011, 2, 19), datetime.date(2011, 2, 20), datetime.date(2011, 2, 21), datetime.date(2011, 2, 22), datetime.date(2011, 2, 23), datetime.date(2011, 2, 24), datetime.date(2011, 2, 25), datetime.date(2011, 2, 26), datetime.date(2011, 2, 27), datetime.date(2011, 2, 28), datetime.date(2011, 3, 1)]\n",
      "['01-01', '01-02', '01-03', '01-04', '01-05', '01-06', '01-07', '01-08', '01-09', '01-10', '01-11', '01-12', '01-13', '01-14', '01-15', '01-16', '01-17', '01-18', '01-19', '01-20', '01-21', '01-22', '01-23', '01-24', '01-25', '01-26', '01-27', '01-28', '01-29', '01-30', '01-31', '02-01', '02-02', '02-03', '02-04', '02-05', '02-06', '02-07', '02-08', '02-09', '02-10', '02-11', '02-12', '02-13', '02-14', '02-15', '02-16', '02-17', '02-18', '02-19', '02-20', '02-21', '02-22', '02-23', '02-24', '02-25', '02-26', '02-27', '02-28', '03-01']\n"
     ]
    }
   ],
   "source": [
    "# calculate the daily normals for your trip\n",
    "# push each tuple of calculations into a list called `normals`\n",
    "normal = []\n",
    "\n",
    "# Set the start and end date of the trip\n",
    "# just random date\n",
    "start = dt.date(2011, 1, 1)\n",
    "end = dt.date(2011, 3, 1)\n",
    "\n",
    "# Use the start and end date to create a range of dates\n",
    "date_list = [] \n",
    "format_date_list = []\n",
    "for i in range((end-start).days + 1):\n",
    "    date_list.append(start + dt.timedelta(days=i))\n",
    "print(date_list)\n",
    "# Stip off the year and save a list of %m-%d strings\n",
    "for i in date_list:\n",
    "    date = i.strftime('%m-%d')\n",
    "    format_date_list.append(date)\n",
    "print(format_date_list)\n",
    "\n",
    "# Loop through the list of %m-%d strings and calculate the normals for each date\n",
    "for i in format_date_list:\n",
    "    query_result = session.query(func.avg(measurement.tobs)).filter(func.strftime(\"%m-%d\", measurement.date) == i).all()\n",
    "    normal.append(query_result)"
   ]
  },
  {
   "cell_type": "code",
   "execution_count": 55,
   "metadata": {
    "collapsed": false,
    "pycharm": {
     "name": "#%%\n"
    }
   },
   "outputs": [
    {
     "data": {
      "text/plain": [
       "[[(69.15384615384616,)],\n",
       " [(69.39622641509433,)],\n",
       " [(68.9090909090909,)],\n",
       " [(70.0,)],\n",
       " [(67.96428571428571,)],\n",
       " [(68.96491228070175,)],\n",
       " [(68.54385964912281,)],\n",
       " [(67.16071428571429,)],\n",
       " [(67.9298245614035,)],\n",
       " [(69.74137931034483,)],\n",
       " [(67.3103448275862,)],\n",
       " [(67.4074074074074,)],\n",
       " [(67.25454545454545,)],\n",
       " [(69.52631578947368,)],\n",
       " [(69.31372549019608,)],\n",
       " [(68.62962962962963,)],\n",
       " [(69.07407407407408,)],\n",
       " [(68.63157894736842,)],\n",
       " [(68.26315789473684,)],\n",
       " [(68.86666666666666,)],\n",
       " [(70.14545454545454,)],\n",
       " [(69.26415094339623,)],\n",
       " [(69.50909090909092,)],\n",
       " [(68.76271186440678,)],\n",
       " [(67.94915254237289,)],\n",
       " [(70.58620689655173,)],\n",
       " [(68.56896551724138,)],\n",
       " [(69.03703703703704,)],\n",
       " [(69.14,)],\n",
       " [(67.12962962962963,)],\n",
       " [(68.47368421052632,)],\n",
       " [(68.14035087719299,)],\n",
       " [(68.85964912280701,)],\n",
       " [(67.79661016949153,)],\n",
       " [(68.14035087719299,)],\n",
       " [(69.6842105263158,)],\n",
       " [(70.38983050847457,)],\n",
       " [(69.0,)],\n",
       " [(66.75438596491227,)],\n",
       " [(67.58928571428571,)],\n",
       " [(68.41666666666667,)],\n",
       " [(69.25,)],\n",
       " [(69.15789473684211,)],\n",
       " [(70.36206896551724,)],\n",
       " [(70.89473684210526,)],\n",
       " [(70.28813559322033,)],\n",
       " [(70.48214285714286,)],\n",
       " [(70.47272727272727,)],\n",
       " [(70.79629629629629,)],\n",
       " [(69.33962264150944,)],\n",
       " [(70.14035087719299,)],\n",
       " [(69.79629629629629,)],\n",
       " [(70.15789473684211,)],\n",
       " [(70.35593220338983,)],\n",
       " [(68.56666666666666,)],\n",
       " [(68.59649122807018,)],\n",
       " [(69.89285714285714,)],\n",
       " [(69.98148148148148,)],\n",
       " [(70.65517241379311,)],\n",
       " [(70.0327868852459,)]]"
      ]
     },
     "execution_count": 55,
     "metadata": {},
     "output_type": "execute_result"
    }
   ],
   "source": [
    "normal"
   ]
  },
  {
   "cell_type": "code",
   "execution_count": 75,
   "metadata": {
    "collapsed": false,
    "pycharm": {
     "name": "#%%\n"
    }
   },
   "outputs": [
    {
     "name": "stdout",
     "output_type": "stream",
     "text": [
      "{(81.0,): 89, (79.0,): 158, (80.0,): 156, (77.0,): 212, (78.0,): 198, (75.0,): 171, (76.0,): 210, (82.0,): 42, (71.0,): 121, (72.0,): 125, (74.0,): 174, (73.0,): 117, (68.0,): 56, (69.0,): 92, (67.0,): 54, (70.0,): 110, (66.0,): 31, (62.0,): 13, (63.0,): 15, (64.0,): 23, (60.0,): 6, (65.0,): 28, (61.0,): 4, (87.0,): 2, (83.0,): 12, (84.0,): 6, (85.0,): 1, (59.0,): 3, (58.0,): 1}\n"
     ]
    }
   ],
   "source": [
    "# list of frequency for each temperature in last 12 months\n",
    "tobs = {}\n",
    "start_date = dt.date(2017, 8, 23)\n",
    "end_date = dt.date(2017, 8, 23) - dt.timedelta(days=365)\n",
    "query_result = session.query(measurement.tobs).filter(measurement.date >= end_date).filter(measurement.date <= start_date).all()\n",
    "for i in query_result:\n",
    "    if i in tobs:\n",
    "        tobs[i] += 1\n",
    "    else:\n",
    "        tobs[i] = 1\n",
    "print(tobs)"
   ]
  },
  {
   "cell_type": "code",
   "execution_count": 79,
   "metadata": {
    "collapsed": false,
    "pycharm": {
     "name": "#%%\n"
    }
   },
   "outputs": [
    {
     "name": "stdout",
     "output_type": "stream",
     "text": [
      "[81.0, 79.0, 80.0, 77.0, 78.0, 75.0, 76.0, 82.0, 71.0, 72.0, 74.0, 73.0, 68.0, 69.0, 67.0, 70.0, 66.0, 62.0, 63.0, 64.0, 60.0, 65.0, 61.0, 87.0, 83.0, 84.0, 85.0, 59.0, 58.0]\n",
      "[89, 158, 156, 212, 198, 171, 210, 42, 121, 125, 174, 117, 56, 92, 54, 110, 31, 13, 15, 23, 6, 28, 4, 2, 12, 6, 1, 3, 1]\n"
     ]
    },
    {
     "data": {
      "text/plain": [
       "(array([ 10.,  17.,  66.,  85., 258., 246., 291., 593., 356., 287.,  18.,\n",
       "          3.]),\n",
       " array([58.        , 60.41666667, 62.83333333, 65.25      , 67.66666667,\n",
       "        70.08333333, 72.5       , 74.91666667, 77.33333333, 79.75      ,\n",
       "        82.16666667, 84.58333333, 87.        ]),\n",
       " <BarContainer object of 12 artists>)"
      ]
     },
     "execution_count": 79,
     "metadata": {},
     "output_type": "execute_result"
    },
    {
     "data": {
      "image/png": "[encoded data removed]",
      "text/plain": [
       "<Figure size 432x288 with 1 Axes>"
      ]
     },
     "metadata": {},
     "output_type": "display_data"
    }
   ],
   "source": [
    "# plot according to the frequency\n",
    "# hist diagram\n",
    "temperature_list = []\n",
    "frequency_list = []\n",
    "for i in tobs:\n",
    "    temperature_list.append(i[0])\n",
    "    frequency_list.append(tobs[i])\n",
    "print(temperature_list)\n",
    "print(frequency_list)\n",
    "# bins = 12\n",
    "plt.hist(temperature_list, bins=12, weights=frequency_list)"
   ]
  },
  {
   "cell_type": "code",
   "execution_count": null,
   "metadata": {
    "collapsed": false,
    "pycharm": {
     "name": "#%%\n"
    }
   },
   "outputs": [],
   "source": []
  }
 ],
 "metadata": {
  "kernel_info": {
   "name": "python3"
  },
  "kernelspec": {
   "display_name": "Python 3.7.13 ('base')",
   "language": "python",
   "name": "python3"
  },
  "language_info": {
   "codemirror_mode": {
    "name": "ipython",
    "version": 3
   },
   "file_extension": ".py",
   "mimetype": "text/x-python",
   "name": "python",
   "nbconvert_exporter": "python",
   "pygments_lexer": "ipython3",
   "version": "3.7.13"
  },
  "nteract": {
   "version": "0.12.3"
  },
  "varInspector": {
   "cols": {
    "lenName": 16,
    "lenType": 16,
    "lenVar": 40
   },
   "kernels_config": {
    "python": {
     "delete_cmd_postfix": "",
     "delete_cmd_prefix": "del ",
     "library": "var_list.py",
     "varRefreshCmd": "print(var_dic_list())"
    },
    "r": {
     "delete_cmd_postfix": ") ",
     "delete_cmd_prefix": "rm(",
     "library": "var_list.r",
     "varRefreshCmd": "cat(var_dic_list()) "
    }
   },
   "types_to_exclude": [
    "module",
    "function",
    "builtin_function_or_method",
    "instance",
    "_Feature"
   ],
   "window_display": false
  },
  "vscode": {
   "interpreter": {
    "hash": "9f1bee6a228e950cbd97744bb934f3f676e9251af8aacc8e2c8d5043d1a1cdc5"
   }
  }
 },
 "nbformat": 4,
 "nbformat_minor": 2
}